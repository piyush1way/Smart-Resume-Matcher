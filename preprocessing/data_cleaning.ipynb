{
 "cells": [
  {
   "cell_type": "code",
   "execution_count": 1,
   "metadata": {},
   "outputs": [],
   "source": [
    "import re, uuid\n",
    "import pandas as pd\n",
    "import numpy as np"
   ]
  },
  {
   "cell_type": "code",
   "execution_count": 5,
   "metadata": {},
   "outputs": [
    {
     "name": "stdout",
     "output_type": "stream",
     "text": [
      "<class 'pandas.core.frame.DataFrame'>\n",
      "RangeIndex: 2277 entries, 0 to 2276\n",
      "Data columns (total 2 columns):\n",
      " #   Column           Non-Null Count  Dtype \n",
      "---  ------           --------------  ----- \n",
      " 0   Job Title        2277 non-null   object\n",
      " 1   Job Description  2277 non-null   object\n",
      "dtypes: object(2)\n",
      "memory usage: 35.7+ KB\n"
     ]
    }
   ],
   "source": [
    "df = pd.read_csv('../data/supplementary-data/job_title_des.csv')\n",
    "df.info()"
   ]
  },
  {
   "cell_type": "code",
   "execution_count": 4,
   "metadata": {},
   "outputs": [
    {
     "data": {
      "text/html": [
       "<div>\n",
       "<style scoped>\n",
       "    .dataframe tbody tr th:only-of-type {\n",
       "        vertical-align: middle;\n",
       "    }\n",
       "\n",
       "    .dataframe tbody tr th {\n",
       "        vertical-align: top;\n",
       "    }\n",
       "\n",
       "    .dataframe thead th {\n",
       "        text-align: right;\n",
       "    }\n",
       "</style>\n",
       "<table border=\"1\" class=\"dataframe\">\n",
       "  <thead>\n",
       "    <tr style=\"text-align: right;\">\n",
       "      <th></th>\n",
       "      <th>Job Title</th>\n",
       "      <th>Job Description</th>\n",
       "    </tr>\n",
       "  </thead>\n",
       "  <tbody>\n",
       "    <tr>\n",
       "      <th>0</th>\n",
       "      <td>Flutter Developer</td>\n",
       "      <td>We are looking for hire experts flutter develo...</td>\n",
       "    </tr>\n",
       "    <tr>\n",
       "      <th>1</th>\n",
       "      <td>Django Developer</td>\n",
       "      <td>PYTHON/DJANGO (Developer/Lead) - Job Code(PDJ ...</td>\n",
       "    </tr>\n",
       "    <tr>\n",
       "      <th>2</th>\n",
       "      <td>Machine Learning</td>\n",
       "      <td>Data Scientist (Contractor)\\n\\nBangalore, IN\\n...</td>\n",
       "    </tr>\n",
       "    <tr>\n",
       "      <th>3</th>\n",
       "      <td>iOS Developer</td>\n",
       "      <td>JOB DESCRIPTION:\\n\\nStrong framework outside o...</td>\n",
       "    </tr>\n",
       "    <tr>\n",
       "      <th>4</th>\n",
       "      <td>Full Stack Developer</td>\n",
       "      <td>job responsibility full stack engineer – react...</td>\n",
       "    </tr>\n",
       "    <tr>\n",
       "      <th>...</th>\n",
       "      <td>...</td>\n",
       "      <td>...</td>\n",
       "    </tr>\n",
       "    <tr>\n",
       "      <th>2259</th>\n",
       "      <td>Backend Developer</td>\n",
       "      <td>Job Summary\\nPublished on : 26 days ago\\nVacan...</td>\n",
       "    </tr>\n",
       "    <tr>\n",
       "      <th>2260</th>\n",
       "      <td>Full Stack Developer</td>\n",
       "      <td>business entity cisco umbrella focus cloud-bas...</td>\n",
       "    </tr>\n",
       "    <tr>\n",
       "      <th>2261</th>\n",
       "      <td>Network Administrator</td>\n",
       "      <td>Urgently reqd in a college in Mohali\\nNetwork ...</td>\n",
       "    </tr>\n",
       "    <tr>\n",
       "      <th>2262</th>\n",
       "      <td>Machine Learning</td>\n",
       "      <td>Key Responsibilities: Team leads for small or ...</td>\n",
       "    </tr>\n",
       "    <tr>\n",
       "      <th>2263</th>\n",
       "      <td>Full Stack Developer</td>\n",
       "      <td>leslie hindman auctioneer one nation 's leadin...</td>\n",
       "    </tr>\n",
       "  </tbody>\n",
       "</table>\n",
       "<p>2264 rows × 2 columns</p>\n",
       "</div>"
      ],
      "text/plain": [
       "                  Job Title                                    Job Description\n",
       "0         Flutter Developer  We are looking for hire experts flutter develo...\n",
       "1          Django Developer  PYTHON/DJANGO (Developer/Lead) - Job Code(PDJ ...\n",
       "2          Machine Learning  Data Scientist (Contractor)\\n\\nBangalore, IN\\n...\n",
       "3             iOS Developer  JOB DESCRIPTION:\\n\\nStrong framework outside o...\n",
       "4      Full Stack Developer  job responsibility full stack engineer – react...\n",
       "...                     ...                                                ...\n",
       "2259      Backend Developer  Job Summary\\nPublished on : 26 days ago\\nVacan...\n",
       "2260   Full Stack Developer  business entity cisco umbrella focus cloud-bas...\n",
       "2261  Network Administrator  Urgently reqd in a college in Mohali\\nNetwork ...\n",
       "2262       Machine Learning  Key Responsibilities: Team leads for small or ...\n",
       "2263   Full Stack Developer  leslie hindman auctioneer one nation 's leadin...\n",
       "\n",
       "[2264 rows x 2 columns]"
      ]
     },
     "execution_count": 4,
     "metadata": {},
     "output_type": "execute_result"
    }
   ],
   "source": [
    "df = df.drop_duplicates([\"Job Description\"])\n",
    "df = df.dropna().reset_index(drop=True)\n",
    "df[\"Job Description\"] = df[\"Job Description\"].apply(lambda row: re.sub(r\"[^\\x00-\\x7f]\", r\"\", row))\n",
    "df[\"Job Description\"] = df[\"Job Description\"].apply(lambda row: re.sub(r\"\\t\", r\"\", row).strip())\n",
    "df[\"Job Description\"] = df[\"Job Description\"].apply(lambda row: re.sub(r\"(\\n|\\r)+\", r\"\\n\", row).strip())\n",
    "df[\"Job Description\"] = df[\"Job Description\"].apply(lambda row: re.sub(r\" +\", r\" \", row).strip())\n",
    "df"
   ]
  },
  {
   "cell_type": "code",
   "execution_count": 18,
   "metadata": {},
   "outputs": [
    {
     "data": {
      "text/plain": [
       "Job Title             \n",
       "DevOps Engineer           40\n",
       "Full Stack Developer      38\n",
       "iOS Developer             38\n",
       "Backend Developer         37\n",
       "Django Developer          36\n",
       "Wordpress Developer       36\n",
       "Node js developer         35\n",
       "Machine Learning          34\n",
       "JavaScript Developer      33\n",
       "Network Administrator     32\n",
       "Java Developer            31\n",
       "Flutter Developer         30\n",
       "PHP Developer             30\n",
       "Software Engineer         26\n",
       "Database Administrator    24\n",
       "Name: count, dtype: int64"
      ]
     },
     "execution_count": 18,
     "metadata": {},
     "output_type": "execute_result"
    }
   ],
   "source": [
    "df_sample = df.sample(500, random_state=3)\n",
    "df_sample.value_counts([\"Job Title\"])"
   ]
  },
  {
   "cell_type": "code",
   "execution_count": 20,
   "metadata": {},
   "outputs": [],
   "source": [
    "df_sample.to_csv(\"./data/sampled-job-titles.csv\", index=False)\n",
    "for i, df_checkpoint in enumerate(np.array_split(df_sample, 5)):\n",
    "  # df_checkpoint.to_csv(f\"./data/main-data/checkpoints/jd{i+1}.csv\", index=False)"
   ]
  },
  {
   "cell_type": "markdown",
   "metadata": {},
   "source": [
    "### Resumes indexing"
   ]
  },
  {
   "cell_type": "code",
   "execution_count": 8,
   "metadata": {},
   "outputs": [],
   "source": [
    "df_resumes = pd.read_csv(\"../data/main-data/synthetic-resumes.csv\")\n",
    "df_resumes = df_resumes.reset_index(drop=False)"
   ]
  },
  {
   "cell_type": "code",
   "execution_count": 15,
   "metadata": {},
   "outputs": [],
   "source": [
    "df_resumes = df_resumes.rename(columns={\"index\": \"ID\"})\n",
    "# df_resumes.to_csv(\"../data/main-data/synthetic-resumes.csv\", index=False)"
   ]
  },
  {
   "cell_type": "code",
   "execution_count": 8,
   "metadata": {},
   "outputs": [],
   "source": [
    "df = pd.read_csv('../data/supplementary-data/job_title_des.csv')\n",
    "df_sub = pd.read_csv('../data/main-data/sampled-job-titles.csv')"
   ]
  }
 ],
 "metadata": {
  "kernelspec": {
   "display_name": "Python 3",
   "language": "python",
   "name": "python3"
  },
  "language_info": {
   "codemirror_mode": {
    "name": "ipython",
    "version": 3
   },
   "file_extension": ".py",
   "mimetype": "text/x-python",
   "name": "python",
   "nbconvert_exporter": "python",
   "pygments_lexer": "ipython3",
   "version": "3.11.0"
  }
 },
 "nbformat": 4,
 "nbformat_minor": 2
}
