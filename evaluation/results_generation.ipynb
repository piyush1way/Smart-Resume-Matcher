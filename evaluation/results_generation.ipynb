{
 "cells": [
  {
   "cell_type": "code",
   "execution_count": 1,
   "metadata": {},
   "outputs": [],
   "source": [
    "import sys, httpx, os\n",
    "import pandas as pd\n",
    "from langchain_community.vectorstores import FAISS\n",
    "from langchain_community.vectorstores.faiss import DistanceStrategy\n",
    "from langchain_community.embeddings import HuggingFaceEmbeddings\n",
    "from langchain_openai import ChatOpenAI\n",
    "from langchain.schema import HumanMessage, SystemMessage, AIMessage"
   ]
  },
  {
   "cell_type": "code",
   "execution_count": 2,
   "metadata": {},
   "outputs": [],
   "source": [
    "DATA_PATH = \"../data/main-data/synthetic-resumes.csv\"\n",
    "FAISS_PATH = \"../vectorstore\"\n",
    "RAG_K_THRESHOLD = 10\n",
    "EMBEDDING_MODEL = \"sentence-transformers/all-MiniLM-L6-v2\"\n",
    "OPENAI_ENDPOINT = \"https://aalto-openai-apigw.azure-api.net\"\n",
    "OPENAI_KEY = \"\""
   ]
  },
  {
   "cell_type": "code",
   "execution_count": 3,
   "metadata": {},
   "outputs": [],
   "source": [
    "documents = pd.read_csv(DATA_PATH)\n",
    "documents[\"ID\"] = documents[\"ID\"].astype('str')  \n",
    "id_resume_dict = dict(zip(documents[\"ID\"], documents[\"Resume\"]))"
   ]
  },
  {
   "cell_type": "code",
   "execution_count": 4,
   "metadata": {},
   "outputs": [],
   "source": [
    "embedding_model = HuggingFaceEmbeddings(\n",
    "  model_name=EMBEDDING_MODEL,\n",
    "  model_kwargs={\"device\": \"cpu\"},\n",
    ")"
   ]
  },
  {
   "cell_type": "code",
   "execution_count": 5,
   "metadata": {},
   "outputs": [],
   "source": [
    "vectorstore_db = FAISS.load_local(FAISS_PATH, embedding_model, distance_strategy=DistanceStrategy.COSINE)"
   ]
  },
  {
   "cell_type": "code",
   "execution_count": 6,
   "metadata": {},
   "outputs": [],
   "source": [
    "def update_base_url(request: httpx.Request):\n",
    "  if request.url.path == \"/chat/completions\":\n",
    "    request.url = request.url.copy_with(path=\"/v1/chat/gpt-35-turbo-1106\")\n",
    "\n",
    "llm = ChatOpenAI(\n",
    "    default_headers={\"Ocp-Apim-Subscription-Key\": OPENAI_KEY},\n",
    "    base_url=OPENAI_ENDPOINT,\n",
    "    api_key=False,\n",
    "    http_client=httpx.Client(\n",
    "      event_hooks={\n",
    "        \"request\": [update_base_url],\n",
    "    }),\n",
    "    temperature=0.1,\n",
    "  )"
   ]
  },
  {
   "cell_type": "code",
   "execution_count": 7,
   "metadata": {},
   "outputs": [],
   "source": [
    "def generate_response(llm, question: str, docs: list):\n",
    "  context = \"\\n\\n\".join(doc for doc in docs)\n",
    "  \n",
    "  system_message = SystemMessage(content=\"\"\"\n",
    "    You are an expert in talent acquisition that helps determine the best candidate among multiple suitable resumes.\n",
    "    Use the following pieces of context to determine the best resume given a job description. \n",
    "    You should provide some detailed explanations for the best resume choice. Make sure to also return a detailed summary of the original text of the best resume.\n",
    "    Because there can be applicants with similar names, use the applicant ID to refer to resumes in your response. \n",
    "    If you don't know the answer, just say that you don't know, do not try to make up an answer.\n",
    "  \"\"\")\n",
    "  user_message = HumanMessage(content=f\"\"\"\n",
    "    Context: {context}\n",
    "    Question: {question}\n",
    "  \"\"\")\n",
    "\n",
    "  response = llm.invoke([system_message, user_message])\n",
    "  return response.content\n",
    "\n",
    "\n",
    "def generate_subquestions(llm, question: str):\n",
    "  system_message = SystemMessage(content=\"\"\"\n",
    "    You are an expert in talent acquisition. Separate this job description into 3-4 more focused aspects for efficient resume retrieval. \n",
    "    Make sure every single relevant aspect of the query is covered in at least one query. You may choose to remove irrelevant information that doesn't contribute to finding resumes such as the expected salary of the job, the ID of the job, the duration of the contract, etc.\n",
    "    Only use the information provided in the initial query. Do not make up any requirements of your own.\n",
    "    Put each result in one line, separated by a linebreak.\n",
    "    \"\"\")\n",
    "  \n",
    "  user_message = HumanMessage(content=f\"\"\"\n",
    "    Generate 3 to 4 sub-queries based on this initial job description: \n",
    "    {question}\n",
    "  \"\"\")\n",
    "\n",
    "  oneshot_example = HumanMessage(content=\"\"\"\n",
    "    Generate 3 to 4 sub-queries based on this initial job description:\n",
    "\n",
    "    Wordpress Developer\n",
    "    We are looking to hire a skilled WordPress Developer to design and implement attractive and functional websites and Portals for our Business and Clients. You will be responsible for both back-end and front-end development including the implementation of WordPress themes and plugins as well as site integration and security updates.\n",
    "    To ensure success as a WordPress Developer, you should have in-depth knowledge of front-end programming languages, a good eye for aesthetics, and strong content management skills. Ultimately, a top-class WordPress Developer can create attractive, user-friendly websites that perfectly meet the design and functionality specifications of the client.\n",
    "    WordPress Developer Responsibilities:\n",
    "    Meeting with clients to discuss website design and function.\n",
    "    Designing and building the website front-end.\n",
    "    Creating the website architecture.\n",
    "    Designing and managing the website back-end including database and server integration.\n",
    "    Generating WordPress themes and plugins.\n",
    "    Conducting website performance tests.\n",
    "    Troubleshooting content issues.\n",
    "    Conducting WordPress training with the client.\n",
    "    Monitoring the performance of the live website.\n",
    "    WordPress Developer Requirements:\n",
    "    Bachelors degree in Computer Science or a similar field.\n",
    "    Proven work experience as a WordPress Developer.\n",
    "    Knowledge of front-end technologies including CSS3, JavaScript, HTML5, and jQuery.\n",
    "    Knowledge of code versioning tools including Git, Mercurial, and SVN.\n",
    "    Experience working with debugging tools such as Chrome Inspector and Firebug.\n",
    "    Good understanding of website architecture and aesthetics.\n",
    "    Ability to project manage.\n",
    "    Good communication skills.\n",
    "    Contract length: 12 months\n",
    "    Expected Start Date: 9/11/2020\n",
    "    Job Types: Full-time, Contract\n",
    "    Salary: 12,004.00 - 38,614.00 per month\n",
    "    Schedule:\n",
    "    Flexible shift\n",
    "    Experience:\n",
    "    Wordpress: 3 years (Required)\n",
    "    web designing: 2 years (Required)\n",
    "    total work: 3 years (Required)\n",
    "    Education:\n",
    "    Bachelor's (Preferred)\n",
    "    Work Remotely:\n",
    "    Yes\n",
    "  \"\"\")\n",
    "\n",
    "  oneshot_response = AIMessage(content=\"\"\"\n",
    "    1. WordPress Developer Skills:\n",
    "      - WordPress, front-end technologies (CSS3, JavaScript, HTML5, jQuery), debugging tools (Chrome Inspector, Firebug), code versioning tools (Git, Mercurial, SVN).\n",
    "      - Required experience: 3 years in WordPress, 2 years in web designing.\n",
    "   \n",
    "    2. WordPress Developer Responsibilities:\n",
    "      - Meeting with clients for website design discussions.\n",
    "      - Designing website front-end and architecture.\n",
    "      - Managing website back-end including database and server integration.\n",
    "      - Generating WordPress themes and plugins.\n",
    "      - Conducting website performance tests and troubleshooting content issues.\n",
    "      - Conducting WordPress training with clients and monitoring live website performance.\n",
    "\n",
    "    3. WordPress Developer Other Requirements:\n",
    "      - Education requirement: Bachelor's degree in Computer Science or similar field.\n",
    "      - Proven work experience as a WordPress Developer.\n",
    "      - Good understanding of website architecture and aesthetics.\n",
    "      - Ability to project manage and strong communication skills.\n",
    "\n",
    "    4. Skills and Qualifications:\n",
    "      - Degree in Computer Science or related field.\n",
    "      - Proven experience in WordPress development.\n",
    "      - Proficiency in front-end technologies and debugging tools.\n",
    "      - Familiarity with code versioning tools.\n",
    "      - Strong communication and project management abilities.\n",
    "  \"\"\")\n",
    "\n",
    "  response = llm.invoke([system_message, oneshot_example, oneshot_response, user_message])\n",
    "  return response.content"
   ]
  },
  {
   "cell_type": "code",
   "execution_count": 8,
   "metadata": {},
   "outputs": [],
   "source": [
    "def reciprocal_rank_fusion(document_rank_list: list[dict], k=50):\n",
    "  fused_scores = {}\n",
    "  for doc_list in document_rank_list:\n",
    "    for rank, (doc, score) in enumerate(doc_list.items()):\n",
    "      if doc not in fused_scores:\n",
    "        fused_scores[doc] = 0\n",
    "      fused_scores[doc] += 1 / (rank + k)\n",
    "  reranked_results = {doc: score for doc, score in sorted(fused_scores.items(), key=lambda x: x[1], reverse=True)}\n",
    "  return reranked_results\n",
    "\n",
    "\n",
    "def retrieve_docs_id(question: str, k=3):\n",
    "  docs_score = vectorstore_db.similarity_search_with_score(question, k=k)\n",
    "  docs_score = {str(doc.metadata[\"ID\"]): score for doc, score in docs_score}\n",
    "  return docs_score\n",
    "\n",
    "\n",
    "def retrieve_id_and_rerank(subquestion_list: list):\n",
    "  document_rank_list = []\n",
    "  for subquestion in subquestion_list:\n",
    "    document_rank_list.append(retrieve_docs_id(subquestion, RAG_K_THRESHOLD))\n",
    "  reranked_documents = reciprocal_rank_fusion(document_rank_list)\n",
    "  return reranked_documents\n",
    "\n",
    "\n",
    "def retrieve_documents_with_id(doc_id_with_score: dict, threshold=5):\n",
    "  retrieved_ids = list(sorted(doc_id_with_score, key=doc_id_with_score.get, reverse=True))[:threshold]\n",
    "  retrieved_documents = [id_resume_dict[id] for id in retrieved_ids]\n",
    "  for i in range(len(retrieved_documents)):\n",
    "    retrieved_documents[i] = \"Applicant ID \" + retrieved_ids[i] + \"\\n\" + retrieved_documents[i]\n",
    "  return retrieved_documents "
   ]
  },
  {
   "cell_type": "markdown",
   "metadata": {},
   "source": [
    "### Result on test set"
   ]
  },
  {
   "cell_type": "code",
   "execution_count": 9,
   "metadata": {},
   "outputs": [],
   "source": [
    "test_set = pd.read_csv(\"../data/main-data/test-sets/testset-1.csv\")\n",
    "\n",
    "question_list = test_set[\"Job Description\"]\n",
    "ground_truth_list = test_set[\"Ground Truth\"]\n",
    "context_list = []\n",
    "response_list = []"
   ]
  },
  {
   "cell_type": "code",
   "execution_count": 14,
   "metadata": {},
   "outputs": [],
   "source": [
    "for question in question_list:\n",
    "  subquestion_list = generate_subquestions(llm, question).split(\"\\n\\n\")\n",
    "  id_list = retrieve_id_and_rerank([question] + subquestion_list)\n",
    "  document_list = retrieve_documents_with_id(id_list)\n",
    "  response = generate_response(llm, question, document_list)\n",
    "\n",
    "  context_list.append(\"===\".join(document_list))\n",
    "  response_list.append(response)  "
   ]
  },
  {
   "cell_type": "code",
   "execution_count": 48,
   "metadata": {},
   "outputs": [],
   "source": [
    "test_result = pd.DataFrame({\"question\": question_list, \"ground_truth\": ground_truth_list, \"answer\": response_list, \"contexts\": context_list})\n",
    "test_result.to_csv(\"../data/main-data/gpt4-ragfusion/test-results/testres-1.csv\", index=False)"
   ]
  }
 ],
 "metadata": {
  "kernelspec": {
   "display_name": "Python 3",
   "language": "python",
   "name": "python3"
  },
  "language_info": {
   "codemirror_mode": {
    "name": "ipython",
    "version": 3
   },
   "file_extension": ".py",
   "mimetype": "text/x-python",
   "name": "python",
   "nbconvert_exporter": "python",
   "pygments_lexer": "ipython3",
   "version": "3.11.0"
  }
 },
 "nbformat": 4,
 "nbformat_minor": 2
}
